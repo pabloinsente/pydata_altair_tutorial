{
 "cells": [
  {
   "cell_type": "markdown",
   "metadata": {
    "slideshow": {
     "slide_type": "slide"
    }
   },
   "source": [
    "# Data Visualization with Altair: a grammar of graphics for Python\n",
    "<img src=\"altair.png\">"
   ]
  },
  {
   "cell_type": "markdown",
   "metadata": {
    "slideshow": {
     "slide_type": "slide"
    }
   },
   "source": [
    "## Outline:\n",
    "\n",
    "- I. Two approaches to data visualization APIs: tell me how and tell me what\n",
    "- II. Wilkinson's grammar of graphics\n",
    "- III. Altair, Vega-Lite, and Vega\n",
    "- IV. Altair in Practice"
   ]
  },
  {
   "cell_type": "markdown",
   "metadata": {
    "slideshow": {
     "slide_type": "slide"
    }
   },
   "source": [
    "## Two approaches to data visualization APIs: tell me how and tell me what\n",
    "\n",
    "- **Imperative approach**: specifies the **\"how\"** (e.g., matplotlib):\n",
    "    - Pros: **fine-graned control** over chart specification\n",
    "    - Cons: **Verbose**, makes you think about low-level visualization details\n",
    "- **Declarative approach**: specifies the **\"what\"** (e.g., altair, plotnine (ggplot2)):\n",
    "    - Pros: fast development, conciseness, and lets you **concentrate on visualization content**\n",
    "    - Cons: **less control** over chart details, trust someone elses decisions about low level graph properties"
   ]
  },
  {
   "cell_type": "markdown",
   "metadata": {
    "slideshow": {
     "slide_type": "slide"
    }
   },
   "source": [
    "## Wilkinson's Grammar of graphics:\n",
    "- **Mathematical foundations** for statistical graphics\n",
    "- Proposed a **grammar** to formalize his idea\n",
    "- **Grammar of graphics**: a system of rules and primitives to generate meaninful perceivable graphics\n",
    "- Postulate: **taxonomies of charts are harmful**"
   ]
  },
  {
   "cell_type": "markdown",
   "metadata": {
    "slideshow": {
     "slide_type": "slide"
    }
   },
   "source": [
    "### Why a grammar instead of a taxonomy?\n",
    "- **Taxonomies of charts are like list of words**: you can generate as many graphics as categories (words) in your taxonomy, but no more. Hence, is limiting.\n",
    "- **A grammar is expressive and generative**: allows the creation of graphics beyond the limits of graph taxonomies\n",
    "- Grammars **are not limitless** in their generativity, but the **space of graphical objects to be generated is larger**"
   ]
  },
  {
   "cell_type": "markdown",
   "metadata": {
    "slideshow": {
     "slide_type": "slide"
    }
   },
   "source": [
    "### Core elements of any statistical graphics specification (Wilkinson):\n",
    "\n",
    "- **DATA**: a set of data operations that create variables from datasets\n",
    "- **TRANS**: variable transformations (e.g., rank)\n",
    "- **SCALE**: scale transformations (e.g., log)\n",
    "- **COORD**: a coordinate system (e.g., polar)\n",
    "- **ELEMENT**: graphs (e.g., points) and their aesthetic attributes (e.g., color)\n",
    "- **GUIDE**: one or more guides (axes, legends, etc.)\n",
    "\n",
    "Wilkinson: **\"These components link data to objects and specify a scene containing those objects\"**"
   ]
  },
  {
   "cell_type": "markdown",
   "metadata": {
    "slideshow": {
     "slide_type": "slide"
    }
   },
   "source": [
    "## Altair, Vega-Lite, and Vega\n",
    "- **Altair**: a declarative statistical visualization library for Python, based on Vega-Lite and Vega. Created by **Jake VanderPlas** and **Brian Granger**\n",
    "- **Vega-Lite**: Vega-Lite is a high-level grammar of interactive graphics (High level API for Vega)\n",
    "- **Vega**: is a visualization grammar, a declarative language for creating, saving, and sharing interactive visualization designs"
   ]
  },
  {
   "cell_type": "markdown",
   "metadata": {
    "slideshow": {
     "slide_type": "slide"
    }
   },
   "source": [
    "### How Altair works\n",
    "\n",
    "- **Step 1**: Altair’s Python API emits Vega-Lite JSON data specification \n",
    "- **Step 2**: Vega-Lite JSON is compiled to a full Vega specification\n",
    "- **Step 3**: Vega specification is then parsed and executed using a reactive runtime that internally makes use of D3.js\n",
    "- **Step 4**: chart is rendered in a [user-interface](https://altair-viz.github.io/user_guide/display_frontends.html#display-general) such as the Jupyter Lab, VSCODE, and others"
   ]
  },
  {
   "cell_type": "markdown",
   "metadata": {
    "slideshow": {
     "slide_type": "slide"
    }
   },
   "source": [
    "### Altair's/Vega-Lite's building blocks:\n",
    "- **Data**: input data to visualize, a relational table consisting of rows and columns.\n",
    "- **Transforms**: data can be subject to transformations such as filter, aggregation, binning, etc\n",
    "- **Marks**:  geometric object to visually encode data-records such as bar, line, area, text, rule, and symbols (point and tick)\n",
    "- **Encodings**: mapping between data attributes (cols) and properties of visual marks such as position (x, y), color, shape, size, and text.\n",
    "- **Scales**: functions that map data values to visual values\n",
    "- **Guides**: Axes and legends that visualize scales (ordinal, quantitative, nominal)"
   ]
  },
  {
   "cell_type": "markdown",
   "metadata": {
    "slideshow": {
     "slide_type": "slide"
    }
   },
   "source": [
    "## Note:\n",
    "This tutorial/talk is based on a series of online resources that you may want to look closer: \n",
    "\n",
    "- [Wilkinson, L. (2005). The Grammar of Graphics. Springer](https://www.springer.com/gp/book/9780387245447)\n",
    "- [VanderPlas, et all (2018). Altair: Interactive statistical visualizations for python. Journal of open source software, 3(32), 1057.](https://idl.cs.washington.edu/files/2018-Altair-JOSS.pdf)\n",
    "- [Satyanarayan, A., Moritz, D., Wongsuphasawat, K., & Heer, J. (2016). Vega-lite: A grammar of interactive graphics. IEEE transactions on visualization and computer graphics, 23(1), 341-350.](https://idl.cs.washington.edu/files/2017-VegaLite-InfoVis.pdf)"
   ]
  },
  {
   "cell_type": "markdown",
   "metadata": {
    "slideshow": {
     "slide_type": "slide"
    }
   },
   "source": [
    "**Talks/turorials:**\n",
    "\n",
    "- [Dominik Moritz and Kanit Wongsuphasawat - Vega-Lite: A Grammar of Interactive Graphics](https://www.youtube.com/watch?v=Nsrz4YdaZ_A)\n",
    "- [Jake VanderPlas - Exploratory Data Visualization with Vega, Vega-Lite, and Altair](https://www.youtube.com/watch?v=ms29ZPUKxbU)\n",
    "- [Leland Wilkinson, H2O.ai - The Grammar of Graphics and the Future of Big Data Visualization](https://www.youtube.com/watch?v=1X93Sum_SyM)"
   ]
  },
  {
   "cell_type": "markdown",
   "metadata": {
    "slideshow": {
     "slide_type": "slide"
    }
   },
   "source": [
    "## Altair in practice"
   ]
  },
  {
   "cell_type": "code",
   "execution_count": 1,
   "metadata": {
    "slideshow": {
     "slide_type": "slide"
    }
   },
   "outputs": [],
   "source": [
    "import pandas as pd\n",
    "import altair as alt\n",
    "from pprint import pprint"
   ]
  },
  {
   "cell_type": "code",
   "execution_count": 2,
   "metadata": {
    "slideshow": {
     "slide_type": "-"
    }
   },
   "outputs": [],
   "source": [
    "url = \"../data/diabetes_data.csv\"\n",
    "data = pd.read_csv(url)"
   ]
  },
  {
   "cell_type": "code",
   "execution_count": 3,
   "metadata": {
    "slideshow": {
     "slide_type": "-"
    }
   },
   "outputs": [
    {
     "data": {
      "text/plain": [
       "(101766, 51)"
      ]
     },
     "execution_count": 3,
     "metadata": {},
     "output_type": "execute_result"
    }
   ],
   "source": [
    "data.shape"
   ]
  },
  {
   "cell_type": "markdown",
   "metadata": {
    "slideshow": {
     "slide_type": "slide"
    }
   },
   "source": [
    "## Working with large datasets on Altair"
   ]
  },
  {
   "cell_type": "markdown",
   "metadata": {
    "slideshow": {
     "slide_type": "slide"
    }
   },
   "source": [
    "Altair specification incorporates both the **code** AND the **data** (JSON specification). If you try to generate multiple charts from large datasets, you can get a **very large notebook** (hundreds of MB or more), since the whole specification is embedded into the notebook itself. \n",
    "\n",
    "To prevent this, Altair triggers a **MaxRowsError exception** when you try to generate plots from datasets larger than **5,000 rows**. There are couple of ways to get around it:"
   ]
  },
  {
   "cell_type": "markdown",
   "metadata": {
    "slideshow": {
     "slide_type": "subslide"
    }
   },
   "source": [
    "1. **Passing Data by URL**, such that the data is query from an external source\n",
    "2. **Disabling MaxRowsError**, allowing Altair to embedd the data in the notebook\n",
    "3. **Local Filesystem**, such that when you make a plot the data will be saved to disk, rather than being embedded in the notebook*\n",
    "4. **Local Data Server**, such that your data is served from a local threaded server. The [**altair_data_server**](https://github.com/altair-viz/altair_data_server) package provides this functionality*\n",
    "\n",
    "*This may not work in certain cloud computing enviroments\n",
    "\n",
    "More info: https://altair-viz.github.io/user_guide/faq.html"
   ]
  },
  {
   "cell_type": "markdown",
   "metadata": {
    "slideshow": {
     "slide_type": "slide"
    }
   },
   "source": [
    "For instance, if we try to generate a chart from our **101.766** rows dataset, we will get this error: "
   ]
  },
  {
   "cell_type": "code",
   "execution_count": 4,
   "metadata": {
    "slideshow": {
     "slide_type": "-"
    }
   },
   "outputs": [
    {
     "ename": "MaxRowsError",
     "evalue": "The number of rows in your dataset is greater than the maximum allowed (5000). For information on how to plot larger datasets in Altair, see the documentation",
     "output_type": "error",
     "traceback": [
      "\u001b[0;31m---------------------------------------------------------------------------\u001b[0m",
      "\u001b[0;31mMaxRowsError\u001b[0m                              Traceback (most recent call last)",
      "\u001b[0;32m~/.pyenv/versions/3.7.0/lib/python3.7/site-packages/altair/vegalite/v3/api.py\u001b[0m in \u001b[0;36mto_dict\u001b[0;34m(self, *args, **kwargs)\u001b[0m\n\u001b[1;32m    355\u001b[0m         \u001b[0mcopy\u001b[0m \u001b[0;34m=\u001b[0m \u001b[0mself\u001b[0m\u001b[0;34m.\u001b[0m\u001b[0mcopy\u001b[0m\u001b[0;34m(\u001b[0m\u001b[0mdeep\u001b[0m\u001b[0;34m=\u001b[0m\u001b[0;32mFalse\u001b[0m\u001b[0;34m)\u001b[0m\u001b[0;34m\u001b[0m\u001b[0m\n\u001b[1;32m    356\u001b[0m         \u001b[0moriginal_data\u001b[0m \u001b[0;34m=\u001b[0m \u001b[0mgetattr\u001b[0m\u001b[0;34m(\u001b[0m\u001b[0mcopy\u001b[0m\u001b[0;34m,\u001b[0m \u001b[0;34m'data'\u001b[0m\u001b[0;34m,\u001b[0m \u001b[0mUndefined\u001b[0m\u001b[0;34m)\u001b[0m\u001b[0;34m\u001b[0m\u001b[0m\n\u001b[0;32m--> 357\u001b[0;31m         \u001b[0mcopy\u001b[0m\u001b[0;34m.\u001b[0m\u001b[0mdata\u001b[0m \u001b[0;34m=\u001b[0m \u001b[0m_prepare_data\u001b[0m\u001b[0;34m(\u001b[0m\u001b[0moriginal_data\u001b[0m\u001b[0;34m,\u001b[0m \u001b[0mcontext\u001b[0m\u001b[0;34m)\u001b[0m\u001b[0;34m\u001b[0m\u001b[0m\n\u001b[0m\u001b[1;32m    358\u001b[0m \u001b[0;34m\u001b[0m\u001b[0m\n\u001b[1;32m    359\u001b[0m         \u001b[0;32mif\u001b[0m \u001b[0moriginal_data\u001b[0m \u001b[0;32mis\u001b[0m \u001b[0;32mnot\u001b[0m \u001b[0mUndefined\u001b[0m\u001b[0;34m:\u001b[0m\u001b[0;34m\u001b[0m\u001b[0m\n",
      "\u001b[0;32m~/.pyenv/versions/3.7.0/lib/python3.7/site-packages/altair/vegalite/v3/api.py\u001b[0m in \u001b[0;36m_prepare_data\u001b[0;34m(data, context)\u001b[0m\n\u001b[1;32m     82\u001b[0m     \u001b[0;31m# convert dataframes  or objects with __geo_interface__ to dict\u001b[0m\u001b[0;34m\u001b[0m\u001b[0;34m\u001b[0m\u001b[0m\n\u001b[1;32m     83\u001b[0m     \u001b[0;32mif\u001b[0m \u001b[0misinstance\u001b[0m\u001b[0;34m(\u001b[0m\u001b[0mdata\u001b[0m\u001b[0;34m,\u001b[0m \u001b[0mpd\u001b[0m\u001b[0;34m.\u001b[0m\u001b[0mDataFrame\u001b[0m\u001b[0;34m)\u001b[0m \u001b[0;32mor\u001b[0m \u001b[0mhasattr\u001b[0m\u001b[0;34m(\u001b[0m\u001b[0mdata\u001b[0m\u001b[0;34m,\u001b[0m \u001b[0;34m'__geo_interface__'\u001b[0m\u001b[0;34m)\u001b[0m\u001b[0;34m:\u001b[0m\u001b[0;34m\u001b[0m\u001b[0m\n\u001b[0;32m---> 84\u001b[0;31m         \u001b[0mdata\u001b[0m \u001b[0;34m=\u001b[0m \u001b[0mpipe\u001b[0m\u001b[0;34m(\u001b[0m\u001b[0mdata\u001b[0m\u001b[0;34m,\u001b[0m \u001b[0mdata_transformers\u001b[0m\u001b[0;34m.\u001b[0m\u001b[0mget\u001b[0m\u001b[0;34m(\u001b[0m\u001b[0;34m)\u001b[0m\u001b[0;34m)\u001b[0m\u001b[0;34m\u001b[0m\u001b[0m\n\u001b[0m\u001b[1;32m     85\u001b[0m \u001b[0;34m\u001b[0m\u001b[0m\n\u001b[1;32m     86\u001b[0m     \u001b[0;31m# convert string input to a URLData\u001b[0m\u001b[0;34m\u001b[0m\u001b[0;34m\u001b[0m\u001b[0m\n",
      "\u001b[0;32m~/.pyenv/versions/3.7.0/lib/python3.7/site-packages/toolz/functoolz.py\u001b[0m in \u001b[0;36mpipe\u001b[0;34m(data, *funcs)\u001b[0m\n\u001b[1;32m    632\u001b[0m     \"\"\"\n\u001b[1;32m    633\u001b[0m     \u001b[0;32mfor\u001b[0m \u001b[0mfunc\u001b[0m \u001b[0;32min\u001b[0m \u001b[0mfuncs\u001b[0m\u001b[0;34m:\u001b[0m\u001b[0;34m\u001b[0m\u001b[0m\n\u001b[0;32m--> 634\u001b[0;31m         \u001b[0mdata\u001b[0m \u001b[0;34m=\u001b[0m \u001b[0mfunc\u001b[0m\u001b[0;34m(\u001b[0m\u001b[0mdata\u001b[0m\u001b[0;34m)\u001b[0m\u001b[0;34m\u001b[0m\u001b[0m\n\u001b[0m\u001b[1;32m    635\u001b[0m     \u001b[0;32mreturn\u001b[0m \u001b[0mdata\u001b[0m\u001b[0;34m\u001b[0m\u001b[0m\n\u001b[1;32m    636\u001b[0m \u001b[0;34m\u001b[0m\u001b[0m\n",
      "\u001b[0;32m~/.pyenv/versions/3.7.0/lib/python3.7/site-packages/toolz/functoolz.py\u001b[0m in \u001b[0;36m__call__\u001b[0;34m(self, *args, **kwargs)\u001b[0m\n\u001b[1;32m    301\u001b[0m     \u001b[0;32mdef\u001b[0m \u001b[0m__call__\u001b[0m\u001b[0;34m(\u001b[0m\u001b[0mself\u001b[0m\u001b[0;34m,\u001b[0m \u001b[0;34m*\u001b[0m\u001b[0margs\u001b[0m\u001b[0;34m,\u001b[0m \u001b[0;34m**\u001b[0m\u001b[0mkwargs\u001b[0m\u001b[0;34m)\u001b[0m\u001b[0;34m:\u001b[0m\u001b[0;34m\u001b[0m\u001b[0m\n\u001b[1;32m    302\u001b[0m         \u001b[0;32mtry\u001b[0m\u001b[0;34m:\u001b[0m\u001b[0;34m\u001b[0m\u001b[0m\n\u001b[0;32m--> 303\u001b[0;31m             \u001b[0;32mreturn\u001b[0m \u001b[0mself\u001b[0m\u001b[0;34m.\u001b[0m\u001b[0m_partial\u001b[0m\u001b[0;34m(\u001b[0m\u001b[0;34m*\u001b[0m\u001b[0margs\u001b[0m\u001b[0;34m,\u001b[0m \u001b[0;34m**\u001b[0m\u001b[0mkwargs\u001b[0m\u001b[0;34m)\u001b[0m\u001b[0;34m\u001b[0m\u001b[0m\n\u001b[0m\u001b[1;32m    304\u001b[0m         \u001b[0;32mexcept\u001b[0m \u001b[0mTypeError\u001b[0m \u001b[0;32mas\u001b[0m \u001b[0mexc\u001b[0m\u001b[0;34m:\u001b[0m\u001b[0;34m\u001b[0m\u001b[0m\n\u001b[1;32m    305\u001b[0m             \u001b[0;32mif\u001b[0m \u001b[0mself\u001b[0m\u001b[0;34m.\u001b[0m\u001b[0m_should_curry\u001b[0m\u001b[0;34m(\u001b[0m\u001b[0margs\u001b[0m\u001b[0;34m,\u001b[0m \u001b[0mkwargs\u001b[0m\u001b[0;34m,\u001b[0m \u001b[0mexc\u001b[0m\u001b[0;34m)\u001b[0m\u001b[0;34m:\u001b[0m\u001b[0;34m\u001b[0m\u001b[0m\n",
      "\u001b[0;32m~/.pyenv/versions/3.7.0/lib/python3.7/site-packages/altair/vegalite/data.py\u001b[0m in \u001b[0;36mdefault_data_transformer\u001b[0;34m(data, max_rows)\u001b[0m\n\u001b[1;32m     11\u001b[0m \u001b[0;34m@\u001b[0m\u001b[0mcurry\u001b[0m\u001b[0;34m\u001b[0m\u001b[0m\n\u001b[1;32m     12\u001b[0m \u001b[0;32mdef\u001b[0m \u001b[0mdefault_data_transformer\u001b[0m\u001b[0;34m(\u001b[0m\u001b[0mdata\u001b[0m\u001b[0;34m,\u001b[0m \u001b[0mmax_rows\u001b[0m\u001b[0;34m=\u001b[0m\u001b[0;36m5000\u001b[0m\u001b[0;34m)\u001b[0m\u001b[0;34m:\u001b[0m\u001b[0;34m\u001b[0m\u001b[0m\n\u001b[0;32m---> 13\u001b[0;31m     \u001b[0;32mreturn\u001b[0m \u001b[0mpipe\u001b[0m\u001b[0;34m(\u001b[0m\u001b[0mdata\u001b[0m\u001b[0;34m,\u001b[0m \u001b[0mlimit_rows\u001b[0m\u001b[0;34m(\u001b[0m\u001b[0mmax_rows\u001b[0m\u001b[0;34m=\u001b[0m\u001b[0mmax_rows\u001b[0m\u001b[0;34m)\u001b[0m\u001b[0;34m,\u001b[0m \u001b[0mto_values\u001b[0m\u001b[0;34m)\u001b[0m\u001b[0;34m\u001b[0m\u001b[0m\n\u001b[0m\u001b[1;32m     14\u001b[0m \u001b[0;34m\u001b[0m\u001b[0m\n\u001b[1;32m     15\u001b[0m \u001b[0;34m\u001b[0m\u001b[0m\n",
      "\u001b[0;32m~/.pyenv/versions/3.7.0/lib/python3.7/site-packages/toolz/functoolz.py\u001b[0m in \u001b[0;36mpipe\u001b[0;34m(data, *funcs)\u001b[0m\n\u001b[1;32m    632\u001b[0m     \"\"\"\n\u001b[1;32m    633\u001b[0m     \u001b[0;32mfor\u001b[0m \u001b[0mfunc\u001b[0m \u001b[0;32min\u001b[0m \u001b[0mfuncs\u001b[0m\u001b[0;34m:\u001b[0m\u001b[0;34m\u001b[0m\u001b[0m\n\u001b[0;32m--> 634\u001b[0;31m         \u001b[0mdata\u001b[0m \u001b[0;34m=\u001b[0m \u001b[0mfunc\u001b[0m\u001b[0;34m(\u001b[0m\u001b[0mdata\u001b[0m\u001b[0;34m)\u001b[0m\u001b[0;34m\u001b[0m\u001b[0m\n\u001b[0m\u001b[1;32m    635\u001b[0m     \u001b[0;32mreturn\u001b[0m \u001b[0mdata\u001b[0m\u001b[0;34m\u001b[0m\u001b[0m\n\u001b[1;32m    636\u001b[0m \u001b[0;34m\u001b[0m\u001b[0m\n",
      "\u001b[0;32m~/.pyenv/versions/3.7.0/lib/python3.7/site-packages/toolz/functoolz.py\u001b[0m in \u001b[0;36m__call__\u001b[0;34m(self, *args, **kwargs)\u001b[0m\n\u001b[1;32m    301\u001b[0m     \u001b[0;32mdef\u001b[0m \u001b[0m__call__\u001b[0m\u001b[0;34m(\u001b[0m\u001b[0mself\u001b[0m\u001b[0;34m,\u001b[0m \u001b[0;34m*\u001b[0m\u001b[0margs\u001b[0m\u001b[0;34m,\u001b[0m \u001b[0;34m**\u001b[0m\u001b[0mkwargs\u001b[0m\u001b[0;34m)\u001b[0m\u001b[0;34m:\u001b[0m\u001b[0;34m\u001b[0m\u001b[0m\n\u001b[1;32m    302\u001b[0m         \u001b[0;32mtry\u001b[0m\u001b[0;34m:\u001b[0m\u001b[0;34m\u001b[0m\u001b[0m\n\u001b[0;32m--> 303\u001b[0;31m             \u001b[0;32mreturn\u001b[0m \u001b[0mself\u001b[0m\u001b[0;34m.\u001b[0m\u001b[0m_partial\u001b[0m\u001b[0;34m(\u001b[0m\u001b[0;34m*\u001b[0m\u001b[0margs\u001b[0m\u001b[0;34m,\u001b[0m \u001b[0;34m**\u001b[0m\u001b[0mkwargs\u001b[0m\u001b[0;34m)\u001b[0m\u001b[0;34m\u001b[0m\u001b[0m\n\u001b[0m\u001b[1;32m    304\u001b[0m         \u001b[0;32mexcept\u001b[0m \u001b[0mTypeError\u001b[0m \u001b[0;32mas\u001b[0m \u001b[0mexc\u001b[0m\u001b[0;34m:\u001b[0m\u001b[0;34m\u001b[0m\u001b[0m\n\u001b[1;32m    305\u001b[0m             \u001b[0;32mif\u001b[0m \u001b[0mself\u001b[0m\u001b[0;34m.\u001b[0m\u001b[0m_should_curry\u001b[0m\u001b[0;34m(\u001b[0m\u001b[0margs\u001b[0m\u001b[0;34m,\u001b[0m \u001b[0mkwargs\u001b[0m\u001b[0;34m,\u001b[0m \u001b[0mexc\u001b[0m\u001b[0;34m)\u001b[0m\u001b[0;34m:\u001b[0m\u001b[0;34m\u001b[0m\u001b[0m\n",
      "\u001b[0;32m~/.pyenv/versions/3.7.0/lib/python3.7/site-packages/altair/utils/data.py\u001b[0m in \u001b[0;36mlimit_rows\u001b[0;34m(data, max_rows)\u001b[0m\n\u001b[1;32m     76\u001b[0m                            \u001b[0;34m'than the maximum allowed ({}). '\u001b[0m\u001b[0;34m\u001b[0m\u001b[0m\n\u001b[1;32m     77\u001b[0m                            \u001b[0;34m'For information on how to plot larger datasets '\u001b[0m\u001b[0;34m\u001b[0m\u001b[0m\n\u001b[0;32m---> 78\u001b[0;31m                            'in Altair, see the documentation'.format(max_rows))\n\u001b[0m\u001b[1;32m     79\u001b[0m     \u001b[0;32mreturn\u001b[0m \u001b[0mdata\u001b[0m\u001b[0;34m\u001b[0m\u001b[0m\n\u001b[1;32m     80\u001b[0m \u001b[0;34m\u001b[0m\u001b[0m\n",
      "\u001b[0;31mMaxRowsError\u001b[0m: The number of rows in your dataset is greater than the maximum allowed (5000). For information on how to plot larger datasets in Altair, see the documentation"
     ]
    },
    {
     "data": {
      "text/plain": [
       "alt.Chart(...)"
      ]
     },
     "execution_count": 4,
     "metadata": {},
     "output_type": "execute_result"
    }
   ],
   "source": [
    "chart = alt.Chart(data).mark_bar().encode(\n",
    "     x='gender',\n",
    "     y='num_medications'\n",
    ")\n",
    "chart"
   ]
  },
  {
   "cell_type": "markdown",
   "metadata": {
    "slideshow": {
     "slide_type": "slide"
    }
   },
   "source": [
    "For now, we will allow to save a csv (you can use JSON too) object in our local filesystem. **Disabling the max rows is not recommended since working with large notebooks is slow and can crash your RAM**"
   ]
  },
  {
   "cell_type": "code",
   "execution_count": 5,
   "metadata": {},
   "outputs": [
    {
     "data": {
      "text/plain": [
       "DataTransformerRegistry.enable('csv')"
      ]
     },
     "execution_count": 5,
     "metadata": {},
     "output_type": "execute_result"
    }
   ],
   "source": [
    "alt.data_transformers.enable('csv')"
   ]
  },
  {
   "cell_type": "code",
   "execution_count": 6,
   "metadata": {
    "slideshow": {
     "slide_type": "slide"
    }
   },
   "outputs": [
    {
     "data": {
      "application/vnd.vegalite.v3+json": {
       "$schema": "https://vega.github.io/schema/vega-lite/v3.4.0.json",
       "config": {
        "mark": {
         "tooltip": null
        },
        "view": {
         "height": 300,
         "width": 400
        }
       },
       "data": {
        "format": {
         "type": "csv"
        },
        "url": "altair-data-cf2bd851a7c068a3092c55520778b4e8.csv"
       },
       "encoding": {
        "x": {
         "field": "num_medications",
         "type": "quantitative"
        },
        "y": {
         "field": "gender",
         "type": "nominal"
        }
       },
       "mark": "bar"
      },
      "image/png": "[encoded data removed]",
      "text/plain": [
       "<VegaLite 3 object>\n",
       "\n",
       "If you see this message, it means the renderer has not been properly enabled\n",
       "for the frontend that you are using. For more information, see\n",
       "https://altair-viz.github.io/user_guide/troubleshooting.html\n"
      ]
     },
     "execution_count": 6,
     "metadata": {},
     "output_type": "execute_result"
    }
   ],
   "source": [
    "chart = alt.Chart(data).mark_bar().encode(\n",
    "     x='num_medications',\n",
    "     y='gender'\n",
    ")\n",
    "chart"
   ]
  },
  {
   "cell_type": "markdown",
   "metadata": {
    "slideshow": {
     "slide_type": "slide"
    }
   },
   "source": [
    "Internally, Altair will generate a Vega-Lite specification in JSON format as follow"
   ]
  },
  {
   "cell_type": "code",
   "execution_count": 7,
   "metadata": {},
   "outputs": [
    {
     "name": "stdout",
     "output_type": "stream",
     "text": [
      "{'$schema': 'https://vega.github.io/schema/vega-lite/v3.4.0.json',\n",
      " 'config': {'mark': {'tooltip': None}, 'view': {'height': 300, 'width': 400}},\n",
      " 'data': {'format': {'type': 'csv'},\n",
      "          'url': 'altair-data-cf2bd851a7c068a3092c55520778b4e8.csv'},\n",
      " 'encoding': {'x': {'field': 'num_medications', 'type': 'quantitative'},\n",
      "              'y': {'field': 'gender', 'type': 'nominal'}},\n",
      " 'mark': 'bar'}\n"
     ]
    }
   ],
   "source": [
    "pprint(chart.to_dict())"
   ]
  },
  {
   "cell_type": "markdown",
   "metadata": {
    "slideshow": {
     "slide_type": "slide"
    }
   },
   "source": [
    "The 'url' is linking to the **csv** file saved locally, which normally would be saved in the notebook itself. We can inspect the Vega specification by clicking in the chart (...) and **\"Open in Vega editor\"**"
   ]
  },
  {
   "cell_type": "markdown",
   "metadata": {},
   "source": [
    "**A few tips:**\n",
    "- At the end of your session, you can run `!rm *csv` to avoid pushing large files to github\n",
    "- You also can remove all charts from the notebook before saving and pushing by clicking on **'Kernel' -> 'Restart Kernel and Clear All Outputs'**. This will leave a very lightweight notebook."
   ]
  },
  {
   "cell_type": "code",
   "execution_count": 8,
   "metadata": {},
   "outputs": [],
   "source": [
    "!rm *.csv"
   ]
  },
  {
   "cell_type": "markdown",
   "metadata": {
    "slideshow": {
     "slide_type": "slide"
    }
   },
   "source": [
    "For the purposes of this tutorial we will take a sample of the larger dataset to work faster."
   ]
  },
  {
   "cell_type": "code",
   "execution_count": 9,
   "metadata": {},
   "outputs": [
    {
     "data": {
      "text/plain": [
       "(1000, 51)"
      ]
     },
     "execution_count": 9,
     "metadata": {},
     "output_type": "execute_result"
    }
   ],
   "source": [
    "data_sample = data.sample(n=1000, replace=False, random_state=1)\n",
    "data_sample.shape"
   ]
  },
  {
   "cell_type": "markdown",
   "metadata": {
    "slideshow": {
     "slide_type": "slide"
    }
   },
   "source": [
    "We will use the race/ethnicity variable a lot, so we will select the main ones for clarity"
   ]
  },
  {
   "cell_type": "code",
   "execution_count": 10,
   "metadata": {},
   "outputs": [],
   "source": [
    "groups = ['AfricanAmerican', 'Asian', 'Caucasian', 'Hispanic']\n",
    "data_sample = data_sample[data_sample['race'].isin(groups)]"
   ]
  },
  {
   "cell_type": "code",
   "execution_count": 11,
   "metadata": {},
   "outputs": [
    {
     "data": {
      "text/plain": [
       "(967, 51)"
      ]
     },
     "execution_count": 11,
     "metadata": {},
     "output_type": "execute_result"
    }
   ],
   "source": [
    "data_sample.shape"
   ]
  },
  {
   "cell_type": "markdown",
   "metadata": {
    "slideshow": {
     "slide_type": "slide"
    }
   },
   "source": [
    "To delete the created objects and go back to default Altair functionality run:"
   ]
  },
  {
   "cell_type": "code",
   "execution_count": 12,
   "metadata": {},
   "outputs": [],
   "source": [
    "del data \n",
    "del chart"
   ]
  },
  {
   "cell_type": "code",
   "execution_count": 13,
   "metadata": {},
   "outputs": [
    {
     "data": {
      "text/plain": [
       "DataTransformerRegistry.enable('default')"
      ]
     },
     "execution_count": 13,
     "metadata": {},
     "output_type": "execute_result"
    }
   ],
   "source": [
    "alt.data_transformers.enable('default') # restore default for Altair"
   ]
  },
  {
   "cell_type": "markdown",
   "metadata": {
    "slideshow": {
     "slide_type": "slide"
    },
    "toc-hr-collapsed": true
   },
   "source": [
    "## Unit specification: single cartesian chart or single view\n",
    "\n",
    "A **single cartesian chart**, also refered as sigle **\"view\"**, describes a graphical object composed of a dataset, a mark type, and a set of encodings for visual channels such as color, size, position, etc."
   ]
  },
  {
   "cell_type": "markdown",
   "metadata": {
    "slideshow": {
     "slide_type": "slide"
    }
   },
   "source": [
    "### Generating a strip plot\n",
    "- Here we create a basic Altair/Vega-Lite chart object as ```Chart(data)``` with data as argument\n",
    "- Next, we chose to represent each record (row) as a tick mark ```mark_tick()```\n",
    "- Finally, we encode the values in visual properties of the chart, in this case, as the x axis ```encode(x='num_medications')```"
   ]
  },
  {
   "cell_type": "code",
   "execution_count": 14,
   "metadata": {
    "slideshow": {
     "slide_type": "slide"
    }
   },
   "outputs": [],
   "source": [
    "# strip =\n",
    "# strip"
   ]
  },
  {
   "cell_type": "markdown",
   "metadata": {
    "slideshow": {
     "slide_type": "slide"
    }
   },
   "source": [
    "Altair/Vega-Lite will **automatically resolve any ambiguity** as the data type, lendend, and axis, by filling in with **sensible defaults**. These defaults are design to follow best practices on visualization design, and they can be overwritten as needed."
   ]
  },
  {
   "cell_type": "markdown",
   "metadata": {
    "slideshow": {
     "slide_type": "slide"
    }
   },
   "source": [
    "### Generating a histogram\n",
    "- Altair/Vega-Lite it is not based on taxonomies of charts, yet, any chart can be generated by reasoning about the **underlying operations and elements** needed to create the chart\n",
    "- For an histogram, we need to:\n",
    "    - **Discretize** the data into bins\n",
    "    - Encode the **aggregated count** of records within each bin as the y axis\n",
    "    - Use a **'bar' as the geometric object** (mark) representing the aggregated data "
   ]
  },
  {
   "cell_type": "code",
   "execution_count": 15,
   "metadata": {
    "slideshow": {
     "slide_type": "slide"
    }
   },
   "outputs": [],
   "source": [
    "# x = \"num_medications:Q\"\n",
    "# y = \"count()\"\n",
    "# Add: Chart, mark, encodings\n",
    "# hist =\n",
    "# hist"
   ]
  },
  {
   "cell_type": "markdown",
   "metadata": {
    "slideshow": {
     "slide_type": "slide"
    }
   },
   "source": [
    "Altair/Vega-Lite allows to **incrementaly customize** our charts by **maping value attributes to encoding channels**. For instance, within each bin, we can encode race/ethnicity as a color attribute"
   ]
  },
  {
   "cell_type": "code",
   "execution_count": 16,
   "metadata": {},
   "outputs": [],
   "source": [
    "#color=\"race:N\"\n",
    "#hist1 =\n",
    "#hist"
   ]
  },
  {
   "cell_type": "markdown",
   "metadata": {
    "slideshow": {
     "slide_type": "slide"
    }
   },
   "source": [
    "Here you can notice that Altair/Vega-Lite **automatically stacked the bars** to avoid overlapping them on top of each other. This is an example of the automatic selection of sensible defaults. We can see what would why stacking is better than overlapping by setting the stack to None."
   ]
  },
  {
   "cell_type": "code",
   "execution_count": 17,
   "metadata": {
    "slideshow": {
     "slide_type": "slide"
    }
   },
   "outputs": [],
   "source": [
    "#y=\"count()\"\n",
    "#hist2 = \n",
    "#hist2"
   ]
  },
  {
   "cell_type": "markdown",
   "metadata": {
    "slideshow": {
     "slide_type": "slide"
    }
   },
   "source": [
    "Her each bar is plotted on top of each other, so it is hard to appreciate the overall picture. Nevertheless, Altair/Vega-Lite **still selects nice defaults** by overlaying smaller bars on top of the larger ones."
   ]
  },
  {
   "cell_type": "markdown",
   "metadata": {
    "slideshow": {
     "slide_type": "slide"
    }
   },
   "source": [
    "### Generating an scatter plot\n",
    "\n",
    "Again, we have to answer a few simple questions:\n",
    "- What **geometric object** is typically used to generate a scatter plot?\n",
    "- What **encoding channels** are typically used in a scatter plot?"
   ]
  },
  {
   "cell_type": "code",
   "execution_count": 18,
   "metadata": {
    "slideshow": {
     "slide_type": "slide"
    }
   },
   "outputs": [],
   "source": [
    "# alt.X(\"num_medications:Q\")\n",
    "# alt.Y(\"num_lab_procedures:Q\")\n",
    "# color=\"insulin:N\"\n",
    "# scatter=\n",
    "# scatter"
   ]
  },
  {
   "cell_type": "markdown",
   "metadata": {
    "slideshow": {
     "slide_type": "slide"
    }
   },
   "source": [
    "### Generating a heatmap \n",
    "- To generate a heatmap we just need to map each variable to the appropriate channels of the view:\n",
    "    - x = variable 1\n",
    "    - y = variable 2\n",
    "    - a rectangle, as the geometric object representing data values\n",
    "    - color, as a representation of some value aggregation (mean in this case)"
   ]
  },
  {
   "cell_type": "code",
   "execution_count": 19,
   "metadata": {
    "slideshow": {
     "slide_type": "slide"
    }
   },
   "outputs": [],
   "source": [
    "# x='age'\n",
    "# y='race'\n",
    "# color='mean(number_diagnoses)'\n",
    "# heatmap =\n",
    "# heatmap"
   ]
  },
  {
   "cell_type": "markdown",
   "metadata": {
    "slideshow": {
     "slide_type": "slide"
    }
   },
   "source": [
    "We can easily customize our heatmap by changing dimensions and color schemes."
   ]
  },
  {
   "cell_type": "code",
   "execution_count": 20,
   "metadata": {},
   "outputs": [],
   "source": [
    "# dim = 300\n",
    "# color=alt.Color('mean(number_diagnoses)', scale=alt.Scale(scheme='goldred'))\n",
    "# heatmap1 =\n",
    "# heatmap1"
   ]
  },
  {
   "cell_type": "markdown",
   "metadata": {
    "slideshow": {
     "slide_type": "slide"
    }
   },
   "source": [
    "Many of the customization elements of Altair can be found in the Vega-Lite and Vega documentation. For instance, color schemes can be found here https://vega.github.io/vega/docs/schemes/"
   ]
  },
  {
   "cell_type": "markdown",
   "metadata": {
    "slideshow": {
     "slide_type": "slide"
    }
   },
   "source": [
    "## Multiple unit specification: multiple cartesian charts or composite view\n",
    "\n",
    "A composite view describe the combination of multiple unit views (single charts) via **composition operators**. The four main composition operators are: **facet, repeat, layer, and concatenation**."
   ]
  },
  {
   "cell_type": "markdown",
   "metadata": {
    "slideshow": {
     "slide_type": "slide"
    }
   },
   "source": [
    "### Faceted chart\n",
    "\n",
    "Faceted charts produces a **trellis plot by sub-setting the data into subgroups**. For quantitative variables scales and axes are shared by default. Facets are nice option for our histogram, since it makes clearer the distribution within each race/ethnicity."
   ]
  },
  {
   "cell_type": "code",
   "execution_count": 21,
   "metadata": {
    "slideshow": {
     "slide_type": "slide"
    }
   },
   "outputs": [],
   "source": [
    "# alt.X(\"num_medications:Q\", bin=True),\n",
    "# alt.Color('race:N', legend=None), # legends here are redundant\n",
    "# y='count()'\n",
    "#base = \n",
    "\n",
    "#column='race:N'\n",
    "#facet_hist = \n",
    "#facet_hist"
   ]
  },
  {
   "cell_type": "markdown",
   "metadata": {
    "slideshow": {
     "slide_type": "slide"
    }
   },
   "source": [
    "### Layered chart\n",
    "Layering produces a view where **charts are plotted on top of each other**. In Altair/Vega-Lite this is accomplished in two steps:\n",
    "- Generate each plot independently\n",
    "- Add them together with the \"+\" operator"
   ]
  },
  {
   "cell_type": "code",
   "execution_count": 22,
   "metadata": {
    "slideshow": {
     "slide_type": "slide"
    }
   },
   "outputs": [],
   "source": [
    "# x='mean(num_medications):Q'\n",
    "# y='race:O'\n",
    "# color=alt.Color('race:O', scale=alt.Scale(scheme='dark2'), legend=None)\n",
    "# bar =\n",
    "# bar"
   ]
  },
  {
   "cell_type": "code",
   "execution_count": 23,
   "metadata": {
    "slideshow": {
     "slide_type": "slide"
    }
   },
   "outputs": [],
   "source": [
    "# x='mean(num_medications):Q'\n",
    "# rule = \n",
    "# rule"
   ]
  },
  {
   "cell_type": "code",
   "execution_count": 24,
   "metadata": {
    "slideshow": {
     "slide_type": "slide"
    }
   },
   "outputs": [],
   "source": [
    "# layered = _ + _\n",
    "# layered"
   ]
  },
  {
   "cell_type": "markdown",
   "metadata": {
    "slideshow": {
     "slide_type": "slide"
    }
   },
   "source": [
    "### Concatenated chart\n",
    "\n",
    "The concat operator **\"glue\" together any type of charts**, vertically or horizontally\n",
    "\n",
    "**Horizontal concatenation** is useful when comparing different X axis values on the same Y values. In Altair we use the **\"|\"** operator"
   ]
  },
  {
   "cell_type": "code",
   "execution_count": 25,
   "metadata": {
    "slideshow": {
     "slide_type": "slide"
    }
   },
   "outputs": [],
   "source": [
    "# x='mean(number_diagnoses):Q',\n",
    "# y='race:O',\n",
    "# color=alt.Color('race:O', scale=alt.Scale(scheme='dark2'), legend=None)\n",
    "# bar2 = \n",
    "# bar2"
   ]
  },
  {
   "cell_type": "code",
   "execution_count": 26,
   "metadata": {
    "slideshow": {
     "slide_type": "slide"
    }
   },
   "outputs": [],
   "source": [
    "# hconcat = _ | _\n",
    "# hconcat"
   ]
  },
  {
   "cell_type": "markdown",
   "metadata": {},
   "source": [
    "**Vertical concatenation** is useful when comparing different Y axis values on the same X values. In Altair we use the **\"&\"** operator"
   ]
  },
  {
   "cell_type": "code",
   "execution_count": 27,
   "metadata": {
    "slideshow": {
     "slide_type": "slide"
    }
   },
   "outputs": [],
   "source": [
    "# x='mean(number_diagnoses):Q'\n",
    "# y='gender:N'\n",
    "# color=alt.Color('gender:N', scale=alt.Scale(scheme='dark2'), legend=None)\n",
    "# bar3 =\n",
    "# bar3"
   ]
  },
  {
   "cell_type": "code",
   "execution_count": 28,
   "metadata": {
    "slideshow": {
     "slide_type": "slide"
    }
   },
   "outputs": [],
   "source": [
    "# vconcat = _ & _\n",
    "# vconcat"
   ]
  },
  {
   "cell_type": "markdown",
   "metadata": {
    "slideshow": {
     "slide_type": "slide"
    }
   },
   "source": [
    "### Repeated chart\n",
    "\n",
    "\n",
    "The repeat operator generates **multiple plots based on a list of encodings (e.g., column values)**. We can think in the repeat operator as a **more convenient/automated form of doing vertical/horizontal concatenation**. Essentially, it consolidates a recurrent use case for vertical and horizontal concatenation."
   ]
  },
  {
   "cell_type": "code",
   "execution_count": 29,
   "metadata": {
    "slideshow": {
     "slide_type": "slide"
    }
   },
   "outputs": [],
   "source": [
    "# alt.X(alt.repeat(\"column\"), type='quantitative')\n",
    "# alt.Y(alt.repeat(\"row\"), type='nominal')\n",
    "\n",
    "# row=['race', 'gender'],\n",
    "# column=['number_diagnoses','num_medications']\n",
    "\n",
    "# repeat =\n",
    "# repeat"
   ]
  },
  {
   "cell_type": "code",
   "execution_count": 30,
   "metadata": {
    "slideshow": {
     "slide_type": "slide"
    }
   },
   "outputs": [],
   "source": [
    "#alt.X(alt.repeat(\"column\"), type='quantitative', aggregate='mean'),\n",
    "#alt.Y(alt.repeat(\"row\"), type='nominal'),\n",
    "#alt.Color(alt.repeat(\"row\"), type='nominal', legend=None)\n",
    "\n",
    "#row=['race', 'gender'],\n",
    "#column=['number_diagnoses','num_medications']\n",
    "\n",
    "# repeat_color \n",
    "# repeat_color"
   ]
  },
  {
   "cell_type": "markdown",
   "metadata": {
    "slideshow": {
     "slide_type": "slide"
    }
   },
   "source": [
    "## Adding interactivity\n",
    "\n",
    "One important advantage of Altair compared to packages like matplotlib, seaborn, and plotnine, is its capacity of seamlessly **incoporating interatictivity into existing charts**. Specialized tools like plotly and bokeh also allow for static and interactive charts, yet they are more verbose and are designed with interactive dashboarding as their primary use case. \n",
    "\n",
    "Altair/Vega-Lite provides a **grammar of interaction**. This grammar is a bit more complex, yet easy to use and implement, so we will explore a few examples as reference. To learn more about the grammar of interaction, read the Satyanarayan, A., Moritz, D., Wongsuphasawat, K., & Heer, J. (2016) article."
   ]
  },
  {
   "cell_type": "markdown",
   "metadata": {},
   "source": [
    "To begin, **adding zooming and panning** to an scatter plot is a simple as attaching the ```interactive()``` method call to be base chart"
   ]
  },
  {
   "cell_type": "code",
   "execution_count": 31,
   "metadata": {
    "slideshow": {
     "slide_type": "slide"
    }
   },
   "outputs": [],
   "source": [
    "#scatter"
   ]
  },
  {
   "cell_type": "markdown",
   "metadata": {
    "slideshow": {
     "slide_type": "slide"
    }
   },
   "source": [
    "We can also interact with the chart via **\"selections\"**, by adding `selection=interval` to the chart properties"
   ]
  },
  {
   "cell_type": "code",
   "execution_count": 32,
   "metadata": {
    "slideshow": {
     "slide_type": "slide"
    }
   },
   "outputs": [],
   "source": [
    "# interval = alt.selection_interval()\n",
    "# scatter.properties(\n",
    "# )"
   ]
  },
  {
   "cell_type": "markdown",
   "metadata": {
    "slideshow": {
     "slide_type": "slide"
    }
   },
   "source": [
    "We can also add **encodings** to the interval selecction, by passing `encodings=['y']` as argument"
   ]
  },
  {
   "cell_type": "code",
   "execution_count": 33,
   "metadata": {
    "slideshow": {
     "slide_type": "slide"
    }
   },
   "outputs": [],
   "source": [
    "# interval = alt.selection_interval()\n",
    "# scatter.properties(\n",
    "#     selection=interval\n",
    "# )"
   ]
  },
  {
   "cell_type": "markdown",
   "metadata": {
    "slideshow": {
     "slide_type": "slide"
    }
   },
   "source": [
    "We can further enhance our interval selecction by making properties of the chart **conditional on the selecction area**\n",
    "\n",
    "For instance, we can make the color encoding conditional by modifying the color properties. To do this, we change the color encoding with `alt.conditional` and `alt.value`"
   ]
  },
  {
   "cell_type": "code",
   "execution_count": 34,
   "metadata": {
    "slideshow": {
     "slide_type": "slide"
    }
   },
   "outputs": [],
   "source": [
    "# interval = alt.selection_interval()\n",
    "\n",
    "# scatter_int = scatter.encode(\n",
    "#     color= #@@ fill in here @@#\n",
    "# ).properties(\n",
    "#     selection=interval\n",
    "# )\n",
    "# scatter_int"
   ]
  },
  {
   "cell_type": "code",
   "execution_count": 35,
   "metadata": {
    "slideshow": {
     "slide_type": "slide"
    }
   },
   "outputs": [],
   "source": [
    "# scatter_dash = _ | _.encode(y='number_diagnoses')\n",
    "# scatter_dash"
   ]
  },
  {
   "cell_type": "markdown",
   "metadata": {
    "slideshow": {
     "slide_type": "slide"
    }
   },
   "source": [
    "## Composed chart or dashboard\n",
    "\n",
    "Composed charts can be composed again into **\"metacharts\"** or **dashboards of charts** by using the same composition operators, like concact, facet, etc."
   ]
  },
  {
   "cell_type": "code",
   "execution_count": 36,
   "metadata": {
    "slideshow": {
     "slide_type": "slide"
    }
   },
   "outputs": [],
   "source": [
    "# metachart =  (_ & _).resolve_scale(color='independent') \n",
    "# metachart"
   ]
  },
  {
   "cell_type": "code",
   "execution_count": 37,
   "metadata": {
    "slideshow": {
     "slide_type": "slide"
    }
   },
   "outputs": [],
   "source": [
    "# metachart1 = (_ | _).resolve_scale(color='independent')\n",
    "# metachart1"
   ]
  },
  {
   "cell_type": "markdown",
   "metadata": {
    "slideshow": {
     "slide_type": "slide"
    }
   },
   "source": [
    "Finally, you can go really crazy **composing meta-meta-charts!**"
   ]
  },
  {
   "cell_type": "code",
   "execution_count": 38,
   "metadata": {
    "slideshow": {
     "slide_type": "slide"
    }
   },
   "outputs": [],
   "source": [
    "# meta_meta_chart = _ & _\n",
    "# meta_meta_chart"
   ]
  }
 ],
 "metadata": {
  "celltoolbar": "Slideshow",
  "kernelspec": {
   "display_name": "Python 3",
   "language": "python",
   "name": "python3"
  },
  "language_info": {
   "codemirror_mode": {
    "name": "ipython",
    "version": 3
   },
   "file_extension": ".py",
   "mimetype": "text/x-python",
   "name": "python",
   "nbconvert_exporter": "python",
   "pygments_lexer": "ipython3",
   "version": "3.7.0"
  }
 },
 "nbformat": 4,
 "nbformat_minor": 4
}
